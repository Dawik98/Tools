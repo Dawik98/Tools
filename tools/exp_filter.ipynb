{
 "cells": [
  {
   "cell_type": "code",
   "execution_count": 10,
   "metadata": {},
   "outputs": [],
   "source": [
    "import numpy as np\n",
    "from scipy.signal import freqz\n",
    "import matplotlib.pyplot as plt\n",
    "from math import pi, acos, exp\n",
    "import ipywidgets as widgets\n"
   ]
  },
  {
   "cell_type": "code",
   "execution_count": 11,
   "metadata": {},
   "outputs": [],
   "source": [
    "sampleWidget = widgets.BoundedFloatText(\n",
    "            value=100.0,\n",
    "            min=0,\n",
    "            max=10000.0,\n",
    "            step=0.001,\n",
    "            description='Sample time [ms]:',\n",
    "            disabled=False\n",
    "        )\n",
    "\n",
    "\n",
    "\n",
    "tauWidget = widgets.BoundedFloatText(\n",
    "            value=300.0,\n",
    "            min=0,\n",
    "            max=10000.0,\n",
    "            step=0.001,\n",
    "            description='Filter time (tau) [ms]:',\n",
    "            disabled=False\n",
    "        )\n"
   ]
  },
  {
   "cell_type": "code",
   "execution_count": 12,
   "metadata": {},
   "outputs": [],
   "source": [
    "\n",
    "def plot_freq(sample, tau):\n",
    "    #sample = sampleWidget.value\n",
    "    #tau = tauWidget.value\n",
    "    alpha = 1-exp(-sample/tau)\n",
    "    #alpha = 0.25\n",
    "\n",
    "    a = [1, alpha-1]\n",
    "    b = [alpha]\n",
    "\n",
    "    fs = 1/(sample/1000)\n",
    "\n",
    "    x = (alpha**2 + 2*alpha - 2) / (2*alpha - 2)\n",
    "    w_c = acos(x)*(fs/(2*pi))                          # Calculate the cut-off frequency\n",
    "\n",
    "    w, h = freqz(b, a, fs=fs)                     # Calculate the frequency response\n",
    "\n",
    "\n",
    "    # Plot the results\n",
    "    plt.subplot(2, 1, 1)                   # Plot the amplitude response\n",
    "    plt.suptitle('Bode Plot')            \n",
    "    plt.plot(w, 20 * np.log10(abs(h)))     # Convert to dB\n",
    "    plt.ylabel('Magnitude [dB]')\n",
    "    #plt.xlim(0, pi)\n",
    "    plt.ylim(-18, 1)\n",
    "    plt.axvline(w_c, color='red', label=\"cutoff freq.= {:.2f}Hz\".format(w_c))\n",
    "    plt.axhline(-3, linewidth=0.8, color='black', linestyle=':')\n",
    "    plt.legend()\n",
    "\n",
    "    plt.subplot(2, 1, 2)                   # Plot the phase response\n",
    "    plt.plot(w, 180 * np.angle(h) / pi)    # Convert argument to degrees\n",
    "    plt.xlabel('Frequency [Hz]')\n",
    "    plt.ylabel('Phase [°]')\n",
    "    #plt.xlim(0, pi)\n",
    "    plt.ylim(-90, 90)\n",
    "    plt.yticks([-90, -45, 0, 45, 90])\n",
    "    plt.axvline(w_c, color='red')\n",
    "    plt.show()\n"
   ]
  },
  {
   "cell_type": "code",
   "execution_count": 13,
   "metadata": {},
   "outputs": [
    {
     "data": {
      "application/vnd.jupyter.widget-view+json": {
       "model_id": "3f57c20b20904027aee8317698c32acc",
       "version_major": 2,
       "version_minor": 0
      },
      "text/plain": [
       "interactive(children=(BoundedFloatText(value=100.0, description='Sample time [ms]:', max=10000.0, step=0.001),…"
      ]
     },
     "metadata": {},
     "output_type": "display_data"
    },
    {
     "data": {
      "text/plain": [
       "<function __main__.plot_freq(sample, tau)>"
      ]
     },
     "execution_count": 13,
     "metadata": {},
     "output_type": "execute_result"
    }
   ],
   "source": [
    "\n",
    "widgets.interact(plot_freq, sample=sampleWidget, tau=tauWidget)"
   ]
  }
 ],
 "metadata": {
  "kernelspec": {
   "display_name": ".venv",
   "language": "python",
   "name": "python3"
  },
  "language_info": {
   "codemirror_mode": {
    "name": "ipython",
    "version": 3
   },
   "file_extension": ".py",
   "mimetype": "text/x-python",
   "name": "python",
   "nbconvert_exporter": "python",
   "pygments_lexer": "ipython3",
   "version": "3.11.0"
  }
 },
 "nbformat": 4,
 "nbformat_minor": 2
}
